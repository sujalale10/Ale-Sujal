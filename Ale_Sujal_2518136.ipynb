{
  "nbformat": 4,
  "nbformat_minor": 0,
  "metadata": {
    "colab": {
      "provenance": [],
      "include_colab_link": true
    },
    "kernelspec": {
      "name": "python3",
      "display_name": "Python 3"
    },
    "language_info": {
      "name": "python"
    }
  },
  "cells": [
    {
      "cell_type": "markdown",
      "metadata": {
        "id": "view-in-github",
        "colab_type": "text"
      },
      "source": [
        "<a href=\"https://colab.research.google.com/github/sujalale10/Ale-Sujal/blob/main/Ale_Sujal_2518136.ipynb\" target=\"_parent\"><img src=\"https://colab.research.google.com/assets/colab-badge.svg\" alt=\"Open In Colab\"/></a>"
      ]
    },
    {
      "cell_type": "markdown",
      "metadata": {
        "id": "gI8hzjrZGZcn"
      },
      "source": [
        "# Python Basics for Data Analysis\n",
        "\n",
        "This notebook covers the fundamental concepts of Python programming, preparing you for broader programming tasks and data analysis. You can find books on programming in the following [folder](https://drive.google.com/drive/folders/1vllLDmpateuau6b2Vp6ENbva_OJBnkJd?usp=sharing). Recommended books will have a **number** preceeding the file name and are in order of interest."
      ]
    },
    {
      "cell_type": "markdown",
      "metadata": {
        "id": "CrBpKaZ4GZcw"
      },
      "source": [
        "## 1. Variables and Data Types\n",
        "\n",
        "Variables are containers for storing data values. Python has several data types including integers, floating-point numbers, strings, and booleans.\n",
        "\n",
        "**Relevant terms:**\n",
        "- Variable: A named storage location in memory\n",
        "- Data type: The classification of data which tells the compiler or interpreter how the programmer intends to use the data\n",
        "\n",
        "### Examples:"
      ]
    },
    {
      "cell_type": "code",
      "execution_count": null,
      "metadata": {
        "id": "VUVSoig_GZcx",
        "outputId": "6b850010-e4d8-4dab-8d44-9fa19ce35ea3",
        "colab": {
          "base_uri": "https://localhost:8080/"
        }
      },
      "outputs": [
        {
          "output_type": "stream",
          "name": "stdout",
          "text": [
            "Alice is 25 years old.\n",
            "x is <class 'int'>, y is <class 'float'>, z is <class 'str'>, is_true is <class 'bool'>\n"
          ]
        }
      ],
      "source": [
        "# Example 1: Assigning values to variables\n",
        "age = 25\n",
        "name = \"Alice\"\n",
        "print(f\"{name} is {age} years old.\")\n",
        "\n",
        "# Example 2: Different data types\n",
        "x = 5           # integer\n",
        "y = 3.14        # float\n",
        "z = \"Hello\"     # string\n",
        "is_true = True  # boolean\n",
        "\n",
        "print(f\"x is {type(x)}, y is {type(y)}, z is {type(z)}, is_true is {type(is_true)}\")"
      ]
    },
    {
      "cell_type": "markdown",
      "source": [
        "###**Practice**:"
      ],
      "metadata": {
        "id": "UVmJDqRLH-F_"
      }
    },
    {
      "cell_type": "markdown",
      "source": [
        "**Exercise 1:** Sarah is planning a party. She needs to calculate the total cost of snacks. Create variables for the cost of chips ($3.50), soda ($2.75), and cookies ($4.25). Calculate and print the total cost."
      ],
      "metadata": {
        "id": "fqr2iz1QH2jD"
      }
    },
    {
      "cell_type": "code",
      "source": [],
      "metadata": {
        "id": "k3SMnJmWH6dp"
      },
      "execution_count": null,
      "outputs": []
    },
    {
      "cell_type": "markdown",
      "source": [
        "**Exercise 2:** John is tracking his daily steps. On Monday he walked 6540 steps, on Tuesday 7850 steps, and on Wednesday 5430 steps. Calculate and print his average daily steps."
      ],
      "metadata": {
        "id": "g3fvC83TH7L3"
      }
    },
    {
      "cell_type": "code",
      "source": [],
      "metadata": {
        "id": "bwkd2_tsH740"
      },
      "execution_count": null,
      "outputs": []
    },
    {
      "cell_type": "markdown",
      "metadata": {
        "id": "psBRCGi0GZcy"
      },
      "source": [
        "## 2. Basic Operators\n",
        "\n",
        "Operators are special symbols that perform operations on variables and values. Python supports arithmetic, comparison, and logical operators.\n",
        "\n",
        "**Relevant terms:**\n",
        "- Arithmetic operators: +, -, *, /, //, %, **\n",
        "- Comparison operators: ==, !=, <, >, <=, >=\n",
        "- Logical operators: and, or, not\n",
        "\n",
        "### Examples:"
      ]
    },
    {
      "cell_type": "code",
      "execution_count": null,
      "metadata": {
        "id": "1_tfU3BnGZcy"
      },
      "outputs": [],
      "source": [
        "# Example 1: Arithmetic operators\n",
        "a = 10\n",
        "b = 3\n",
        "print(f\"a + b = {a + b}\")\n",
        "print(f\"a - b = {a - b}\")\n",
        "print(f\"a * b = {a * b}\")\n",
        "print(f\"a / b = {a / b}\")\n",
        "print(f\"a // b = {a // b}\")\n",
        "print(f\"a % b = {a % b}\")\n",
        "print(f\"a ** b = {a ** b}\")\n",
        "\n",
        "# Example 2: Comparison and logical operators\n",
        "x = 5\n",
        "y = 10\n",
        "print(f\"x < y is {x < y}\")\n",
        "print(f\"x > y is {x > y}\")\n",
        "print(f\"x < y and y < 15 is {x < y and y < 15}\")\n",
        "print(f\"x > y or y < 15 is {x > y or y < 15}\")"
      ]
    },
    {
      "cell_type": "markdown",
      "source": [
        "###**Practice**:"
      ],
      "metadata": {
        "id": "7bxay621J689"
      }
    },
    {
      "cell_type": "markdown",
      "source": [
        "**Exercise 1:** A rectangle has a length of 15 units and a width of 7 units. Calculate and print its area and perimeter."
      ],
      "metadata": {
        "id": "Xfk2wSN1KBKs"
      }
    },
    {
      "cell_type": "code",
      "source": [],
      "metadata": {
        "id": "fZV2nemtKH_f"
      },
      "execution_count": null,
      "outputs": []
    },
    {
      "cell_type": "markdown",
      "source": [
        "**Exercise 2:** Emma has 48 stickers. She wants to divide them equally among her 5 friends and herself. Calculate how many stickers each person will get and how many will be left over."
      ],
      "metadata": {
        "id": "cE00KZoRKITZ"
      }
    },
    {
      "cell_type": "code",
      "source": [],
      "metadata": {
        "id": "EUAt_xa5KKjp"
      },
      "execution_count": null,
      "outputs": []
    },
    {
      "cell_type": "markdown",
      "metadata": {
        "id": "pCoyxJJrGZcy"
      },
      "source": [
        "## 3. Input/Output Operations\n",
        "\n",
        "Input/output (I/O) operations allow programs to interact with users and external data sources. In Python, we use the `input()` function for input and `print()` function for output.\n",
        "\n",
        "**Relevant terms:**\n",
        "- input(): Function to accept user input\n",
        "- print(): Function to display output\n",
        "- f-string: Formatted string literal, prefixed with 'f', which contains expressions inside braces\n",
        "\n",
        "### Examples:"
      ]
    },
    {
      "cell_type": "code",
      "execution_count": null,
      "metadata": {
        "id": "2xPzdifwGZcz"
      },
      "outputs": [],
      "source": [
        "# Example 1: Basic input and output\n",
        "name = input(\"Enter your name: \")\n",
        "print(f\"Hello, {name}!\")\n",
        "\n",
        "# Example 2: Input with type conversion\n",
        "age = int(input(\"Enter your age: \"))\n",
        "years_to_100 = 100 - age\n",
        "print(f\"You will be 100 in {years_to_100} years.\")"
      ]
    },
    {
      "cell_type": "markdown",
      "source": [
        "###**Practice**:"
      ],
      "metadata": {
        "id": "-BHpD_5LKMBI"
      }
    },
    {
      "cell_type": "markdown",
      "source": [
        "**Exercise 1:** Create a simple calculator that asks the user for two numbers and an operation (+, -, *, /). Perform the operation and print the result.\n"
      ],
      "metadata": {
        "id": "bM7Os7xuLWvf"
      }
    },
    {
      "cell_type": "code",
      "source": [],
      "metadata": {
        "id": "cLfvpx2c4Uhw"
      },
      "execution_count": null,
      "outputs": []
    },
    {
      "cell_type": "markdown",
      "source": [
        "**Exercise 2:** Ask the user for their name and age. Print a message saying \"Hello [name], you will be [age+1] next year.\""
      ],
      "metadata": {
        "id": "4YiUiWt-4VBD"
      }
    },
    {
      "cell_type": "code",
      "source": [],
      "metadata": {
        "id": "DvyJyR_D4Whx"
      },
      "execution_count": null,
      "outputs": []
    },
    {
      "cell_type": "markdown",
      "metadata": {
        "id": "628Hy0GqGZcz"
      },
      "source": [
        "## 4. Conditional Statements\n",
        "\n",
        "Conditional statements allow programs to make decisions based on certain conditions. The main conditional statement in Python is the if-elif-else structure.\n",
        "\n",
        "**Relevant terms:**\n",
        "- if: Keyword to start a conditional block\n",
        "- elif: Short for \"else if\", used for additional conditions\n",
        "- else: Used for the default case when no conditions are met\n",
        "\n",
        "### Examples:"
      ]
    },
    {
      "cell_type": "code",
      "execution_count": null,
      "metadata": {
        "id": "uQxUcMtyGZcz"
      },
      "outputs": [],
      "source": [
        "# Example 1: Simple if-else statement\n",
        "age = 20\n",
        "if age >= 18:\n",
        "    print(\"You are an adult.\")\n",
        "else:\n",
        "    print(\"You are a minor.\")\n",
        "\n",
        "# Example 2: if-elif-else statement\n",
        "score = 75\n",
        "if score >= 90:\n",
        "    print(\"Grade: A\")\n",
        "elif score >= 80:\n",
        "    print(\"Grade: B\")\n",
        "elif score >= 70:\n",
        "    print(\"Grade: C\")\n",
        "elif score >= 60:\n",
        "    print(\"Grade: D\")\n",
        "else:\n",
        "    print(\"Grade: F\")"
      ]
    },
    {
      "cell_type": "markdown",
      "source": [
        "###**Practice**:"
      ],
      "metadata": {
        "id": "sbvz1lrlKXVl"
      }
    },
    {
      "cell_type": "markdown",
      "source": [
        "**Exercise 1:** Ask the user for their exam score (0-100). Print \"Pass\" if the score is 60 or above, and \"Fail\" if it's below 60.\n"
      ],
      "metadata": {
        "id": "YouDbj99LZvn"
      }
    },
    {
      "cell_type": "code",
      "source": [],
      "metadata": {
        "id": "Q56Cb55R4chc"
      },
      "execution_count": null,
      "outputs": []
    },
    {
      "cell_type": "markdown",
      "source": [
        "**Exercise 2:** Create a simple rock-paper-scissors game. Ask for player 1 and player 2's choices, then determine and print the winner."
      ],
      "metadata": {
        "id": "6fuKWuSW4cx-"
      }
    },
    {
      "cell_type": "code",
      "source": [],
      "metadata": {
        "id": "YafZB7KO4fC1"
      },
      "execution_count": null,
      "outputs": []
    },
    {
      "cell_type": "markdown",
      "metadata": {
        "id": "rCvCJOJEGZc0"
      },
      "source": [
        "## 5. Loops\n",
        "\n",
        "Loops are used to repeat a block of code multiple times. Python has two main types of loops: for loops and while loops.\n",
        "\n",
        "**Relevant terms:**\n",
        "- for loop: Used to iterate over a sequence (list, tuple, string, etc.)\n",
        "- while loop: Repeats as long as a certain condition is true\n",
        "- range(): Function to generate a sequence of numbers\n",
        "\n",
        "### Examples:"
      ]
    },
    {
      "cell_type": "code",
      "execution_count": null,
      "metadata": {
        "id": "dlnkvoGEGZc0"
      },
      "outputs": [],
      "source": [
        "# Example 1: for loop\n",
        "for i in range(5):\n",
        "    print(i, end=\" \")\n",
        "print()  # newline\n",
        "\n",
        "# Example 2: while loop\n",
        "count = 0\n",
        "while count < 5:\n",
        "    print(count, end=\" \")\n",
        "    count += 1\n",
        "print()  # newline"
      ]
    },
    {
      "cell_type": "markdown",
      "source": [
        "###**Practice**:"
      ],
      "metadata": {
        "id": "TW1N-m8pKZE6"
      }
    },
    {
      "cell_type": "markdown",
      "source": [
        "**Exercise 1:** Print the multiplication table for a number entered by the user, from 1 to 10."
      ],
      "metadata": {
        "id": "Ncza1fDJLex1"
      }
    },
    {
      "cell_type": "code",
      "source": [],
      "metadata": {
        "id": "q1_NVpQv4juk"
      },
      "execution_count": null,
      "outputs": []
    },
    {
      "cell_type": "markdown",
      "source": [
        "**Exercise 2:** Ask the user for a positive integer. Calculate and print the sum of all numbers from 1 to that integer."
      ],
      "metadata": {
        "id": "9vFLEaYX4j9n"
      }
    },
    {
      "cell_type": "code",
      "source": [],
      "metadata": {
        "id": "2pZ_Au5i4lec"
      },
      "execution_count": null,
      "outputs": []
    },
    {
      "cell_type": "markdown",
      "metadata": {
        "id": "uWBFS4gUGZc0"
      },
      "source": [
        "## 6. Lists\n",
        "\n",
        "Lists are ordered, mutable sequences of elements. They can contain items of different types and are defined using square brackets.\n",
        "\n",
        "**Relevant terms:**\n",
        "- List: An ordered collection of items\n",
        "- Index: Position of an item in the list (starting from 0)\n",
        "- Append: Adding an item to the end of the list\n",
        "- Slice: A portion of the list\n",
        "\n",
        "### Examples:"
      ]
    },
    {
      "cell_type": "code",
      "execution_count": null,
      "metadata": {
        "id": "8bFR0ut7GZc0"
      },
      "outputs": [],
      "source": [
        "# Example 1: Basic list operations\n",
        "fruits = ['apple', 'banana', 'cherry']\n",
        "print(fruits)\n",
        "print(f\"First fruit: {fruits[0]}\")\n",
        "fruits.append('date')\n",
        "print(f\"Updated list: {fruits}\")\n",
        "\n",
        "# Example 2: List slicing\n",
        "numbers = [0, 1, 2, 3, 4, 5]\n",
        "print(f\"Slice from index 1 to 4: {numbers[1:4]}\")\n",
        "print(f\"Every second item: {numbers[::2]}\")"
      ]
    },
    {
      "cell_type": "markdown",
      "source": [
        "###**Practice**:"
      ],
      "metadata": {
        "id": "7ojBJnXoKaOY"
      }
    },
    {
      "cell_type": "markdown",
      "source": [
        "**Exercise 1:** Create a list of 5 favorite fruits. Ask the user to input a fruit name and check if it's in the list. Print whether it's in the list or not."
      ],
      "metadata": {
        "id": "SYhOlLdTLilu"
      }
    },
    {
      "cell_type": "code",
      "source": [],
      "metadata": {
        "id": "9d9WrEJ64qMG"
      },
      "execution_count": null,
      "outputs": []
    },
    {
      "cell_type": "markdown",
      "source": [
        "**Exercise 2:** Create a list of temperatures for a week. Find and print the highest and lowest temperatures."
      ],
      "metadata": {
        "id": "wdMnfGrO4qYc"
      }
    },
    {
      "cell_type": "code",
      "source": [],
      "metadata": {
        "id": "c71QvNPN4sK5"
      },
      "execution_count": null,
      "outputs": []
    },
    {
      "cell_type": "markdown",
      "metadata": {
        "id": "QhzvoqaYGZc1"
      },
      "source": [
        "## 7. Tuples\n",
        "\n",
        "Tuples are ordered, immutable sequences. They are similar to lists but cannot be changed after creation.\n",
        "\n",
        "**Relevant terms:**\n",
        "- Tuple: An ordered, immutable collection of items\n",
        "- Packing: Creating a tuple by separating items with commas\n",
        "- Unpacking: Assigning tuple items to individual variables\n",
        "\n",
        "### Examples:"
      ]
    },
    {
      "cell_type": "code",
      "execution_count": null,
      "metadata": {
        "id": "hAw-Kg-_GZc1"
      },
      "outputs": [],
      "source": [
        "# Example 1: Creating and accessing tuples\n",
        "coordinates = (3, 4)\n",
        "print(f\"X coordinate: {coordinates[0]}\")\n",
        "print(f\"Y coordinate: {coordinates[1]}\")\n",
        "\n",
        "# Example 2: Tuple packing and unpacking\n",
        "person = \"Alice\", 25, \"New York\"\n",
        "name, age, city = person\n",
        "print(f\"{name} is {age} years old and lives in {city}\")"
      ]
    },
    {
      "cell_type": "markdown",
      "source": [
        "###**Practice**:"
      ],
      "metadata": {
        "id": "-kC3hkyZKbtu"
      }
    },
    {
      "cell_type": "markdown",
      "source": [
        "**Exercise 1:** Create a tuple of the days of the week. Ask the user for a number (1-7) and print the corresponding day."
      ],
      "metadata": {
        "id": "CWmG0B96Llu7"
      }
    },
    {
      "cell_type": "code",
      "source": [],
      "metadata": {
        "id": "9PEf31J74wPK"
      },
      "execution_count": null,
      "outputs": []
    },
    {
      "cell_type": "markdown",
      "source": [
        "**Exercise 2:** Create a tuple of the months of the year. Ask the user for their birth month and print its position in the year."
      ],
      "metadata": {
        "id": "fpT4I17l4wd0"
      }
    },
    {
      "cell_type": "code",
      "source": [],
      "metadata": {
        "id": "Aa6YagFE4xqg"
      },
      "execution_count": null,
      "outputs": []
    },
    {
      "cell_type": "markdown",
      "metadata": {
        "id": "BM1JNtRkGZc1"
      },
      "source": [
        "## 8. Dictionaries\n",
        "\n",
        "Dictionaries are unordered collections of key-value pairs. They are defined using curly braces and allow fast lookup of values based on their keys.\n",
        "\n",
        "**Relevant terms:**\n",
        "- Key: A unique identifier for a value in the dictionary\n",
        "- Value: The data associated with a key\n",
        "- Key-value pair: A combination of a key and its corresponding value\n",
        "\n",
        "### Examples:"
      ]
    },
    {
      "cell_type": "code",
      "execution_count": null,
      "metadata": {
        "id": "7kTIhOU9GZc1"
      },
      "outputs": [],
      "source": [
        "# Example 1: Creating and accessing dictionary items\n",
        "student = {\"name\": \"Alice\", \"age\": 20, \"grade\": \"A\"}\n",
        "print(f\"Student name: {student['name']}\")\n",
        "student['city'] = \"New York\"\n",
        "print(f\"Updated dictionary: {student}\")\n",
        "\n",
        "# Example 2: Iterating through a dictionary\n",
        "for key, value in student.items():\n",
        "    print(f\"{key}: {value}\")"
      ]
    },
    {
      "cell_type": "markdown",
      "source": [
        "###**Practice**:"
      ],
      "metadata": {
        "id": "dNXs-tPpKdPJ"
      }
    },
    {
      "cell_type": "markdown",
      "source": [
        "**Exercise 1:** Create a simple English-Spanish dictionary with 5 words. Ask the user for an English word and print its Spanish translation if it exists in the dictionary."
      ],
      "metadata": {
        "id": "-zJ4L0jLLqQJ"
      }
    },
    {
      "cell_type": "code",
      "source": [],
      "metadata": {
        "id": "XEEEmCzJ40xO"
      },
      "execution_count": null,
      "outputs": []
    },
    {
      "cell_type": "markdown",
      "source": [
        "**Exercise 2:** Create a dictionary of 5 students and their scores. Ask the user for a student's name and print their score if the student is in the dictionary."
      ],
      "metadata": {
        "id": "ek91m-P84086"
      }
    },
    {
      "cell_type": "code",
      "source": [],
      "metadata": {
        "id": "Ym-At-wd42gJ"
      },
      "execution_count": null,
      "outputs": []
    },
    {
      "cell_type": "markdown",
      "metadata": {
        "id": "Pa4FRbzzGZc1"
      },
      "source": [
        "## 9. Sets\n",
        "\n",
        "Sets are unordered collections of unique elements. They are useful for removing duplicates and performing mathematical set operations.\n",
        "\n",
        "**Relevant terms:**\n",
        "- Set: An unordered collection of unique items\n",
        "- Union: Combination of two sets\n",
        "- Intersection: Common elements between two sets\n",
        "\n",
        "### Examples:"
      ]
    },
    {
      "cell_type": "code",
      "execution_count": null,
      "metadata": {
        "id": "cffYCFA-GZc1"
      },
      "outputs": [],
      "source": [
        "# Example 1: Creating and modifying sets\n",
        "fruits = {\"apple\", \"banana\", \"cherry\"}\n",
        "print(f\"Original set: {fruits}\")\n",
        "fruits.add(\"date\")\n",
        "fruits.remove(\"banana\")\n",
        "print(f\"Modified set: {fruits}\")\n",
        "\n",
        "# Example 2: Set operations\n",
        "set1 = {1, 2, 3, 4, 5}\n",
        "set2 = {4, 5, 6, 7, 8}\n",
        "print(f\"Union: {set1 | set2}\")\n",
        "print(f\"Intersection: {set1 & set2}\")"
      ]
    },
    {
      "cell_type": "markdown",
      "source": [
        "###**Practice**:"
      ],
      "metadata": {
        "id": "5jhy2tXoKe86"
      }
    },
    {
      "cell_type": "markdown",
      "source": [
        "**Exercise 1:** Create two sets of numbers. Find and print the common elements between them."
      ],
      "metadata": {
        "id": "UMIeswZmLtjG"
      }
    },
    {
      "cell_type": "code",
      "source": [],
      "metadata": {
        "id": "TA5-nURH47k7"
      },
      "execution_count": null,
      "outputs": []
    },
    {
      "cell_type": "markdown",
      "source": [
        "**Exercise 2:** Ask the user to input 5 unique numbers. Create a set from these numbers and print it."
      ],
      "metadata": {
        "id": "hTvf7R7u477F"
      }
    },
    {
      "cell_type": "code",
      "source": [],
      "metadata": {
        "id": "LkdELDPe4962"
      },
      "execution_count": null,
      "outputs": []
    },
    {
      "cell_type": "markdown",
      "metadata": {
        "id": "dZFIpoavGZc1"
      },
      "source": [
        "## 10. Functions\n",
        "\n",
        "Functions are reusable blocks of code that perform specific tasks. They help in organizing code and promoting reusability.\n",
        "\n",
        "**Relevant terms:**\n",
        "- Function: A named block of code that performs a specific task\n",
        "- Parameter: A variable in the function definition\n",
        "- Argument: The actual value passed to a function\n",
        "- Return: The value that a function sends back to the caller\n",
        "\n",
        "### Examples:"
      ]
    },
    {
      "cell_type": "code",
      "execution_count": null,
      "metadata": {
        "id": "7QtRbk_LGZc2"
      },
      "outputs": [],
      "source": [
        "# Example 1: Simple function\n",
        "def greet(name):\n",
        "    return f\"Hello, {name}!\"\n",
        "\n",
        "print(greet(\"Alice\"))\n",
        "print(greet(\"Bob\"))\n",
        "\n",
        "# Example 2: Function with multiple parameters\n",
        "def calculate_rectangle_area(length, width):\n",
        "    return length * width\n",
        "\n",
        "area = calculate_rectangle_area(5, 3)\n",
        "print(f\"The area of the rectangle is: {area}\")"
      ]
    },
    {
      "cell_type": "markdown",
      "source": [
        "###**Practice**:"
      ],
      "metadata": {
        "id": "b3Hfo2umKgJx"
      }
    },
    {
      "cell_type": "markdown",
      "source": [
        "**Exercise 1:** Write a function that takes a person's name and age as parameters and returns a greeting message including the name and how old they will be in 10 years."
      ],
      "metadata": {
        "id": "cWmt_9eELw2j"
      }
    },
    {
      "cell_type": "code",
      "source": [],
      "metadata": {
        "id": "93AYyygh5El6"
      },
      "execution_count": null,
      "outputs": []
    },
    {
      "cell_type": "markdown",
      "source": [
        "**Exercise 2:** Write a function that takes a list of numbers as a parameter and returns the average of those numbers."
      ],
      "metadata": {
        "id": "5nDWDS7T5Ex3"
      }
    },
    {
      "cell_type": "code",
      "source": [],
      "metadata": {
        "id": "AxkprKzU5GSv"
      },
      "execution_count": null,
      "outputs": []
    },
    {
      "cell_type": "markdown",
      "metadata": {
        "id": "oT0EW4aPGZc2"
      },
      "source": [
        "## 11. File Handling\n",
        "\n",
        "File handling allows programs to read from and write to external files. This is crucial for storing and retrieving data.\n",
        "\n",
        "**Relevant terms:**\n",
        "- Open: Function to open a file\n",
        "- Read: Method to read content from a file\n",
        "- Write: Method to write content to a file\n",
        "- Close: Method to close an opened file\n",
        "\n",
        "### Examples:"
      ]
    },
    {
      "cell_type": "code",
      "source": [
        "# Example 1: Writing to a file\n",
        "file = open(\\\"example.txt\\\", \\\"w\\\")\n",
        "file.write(\\\"Hello, World!\\\\n\\\")\n",
        "file.write(\\\"This is a test file.\\\")\n",
        "file.close()\n",
        "\n",
        "print(\\\"File 'example.txt' has been created and written to.\\\")\n",
        "\n",
        "# Example 2: Reading from a file\n",
        "file = open(\\\"example.txt\\\", \\\"r\\\")\n",
        "content = file.read()\n",
        "file.close()\n",
        "\n",
        "print(\\\"File contents:\\\")\n",
        "print(content)"
      ],
      "metadata": {
        "id": "lwpmmvCY-tgv"
      },
      "execution_count": null,
      "outputs": []
    },
    {
      "cell_type": "markdown",
      "source": [
        "**Exercise 1:** Create a program that writes the multiplication table of a user-input number to a file named \"multiplication_table.txt\"."
      ],
      "metadata": {
        "id": "iDR_xY7xL0tg"
      }
    },
    {
      "cell_type": "code",
      "source": [],
      "metadata": {
        "id": "G3_5RerU5OIs"
      },
      "execution_count": null,
      "outputs": []
    },
    {
      "cell_type": "markdown",
      "source": [
        "**Exercise 2:** Write a program that reads a file named \"names.txt\" containing a list of names (one per line), and prints the number of names that start with the letter 'A'."
      ],
      "metadata": {
        "id": "CKMycvpj5OWt"
      }
    },
    {
      "cell_type": "code",
      "source": [],
      "metadata": {
        "id": "LCipOiqW5QJU"
      },
      "execution_count": null,
      "outputs": []
    },
    {
      "cell_type": "markdown",
      "metadata": {
        "id": "9jbCryiMBWCp"
      },
      "source": [
        "## 12. Libraries\n",
        "\n",
        "Libraries in Python are collections of pre-written code that extend Python's functionality. For data analysis, several powerful libraries are commonly used.\n",
        "\n",
        "**Relevant terms:**\n",
        "- Library: A collection of modules and packages that provide additional functionality\n",
        "- Import: The keyword used to make a library available in your Python script\n",
        "- Module: A Python file containing functions, classes, and variables\n",
        "- Package: A collection of modules\n",
        "\n",
        "### Major Data Analysis Libraries:\n",
        "\n",
        "1. **NumPy**: Provides support for large, multi-dimensional arrays and matrices, along with a collection of mathematical functions to operate on these arrays.\n",
        "\n",
        "2. **Pandas**: Offers data structures and operations for manipulating numerical tables and time series. It's particularly good for handling structured data.\n",
        "\n",
        "3. **Matplotlib**: A plotting library that provides a MATLAB-like interface for creating static, animated, and interactive visualizations.\n",
        "\n",
        "### Examples:"
      ]
    },
    {
      "cell_type": "code",
      "execution_count": null,
      "metadata": {
        "id": "iMFe70F1BWCp"
      },
      "outputs": [],
      "source": [
        "# NumPy example\n",
        "import numpy as np\n",
        "\n",
        "# Create a 2D array\n",
        "arr = np.array([[1, 2, 3], [4, 5, 6]])\n",
        "print(\"NumPy array:\")\n",
        "print(arr)\n",
        "print(\"Array shape:\", arr.shape)\n",
        "print(\"Array mean:\", arr.mean())\n",
        "\n",
        "# Pandas example\n",
        "import pandas as pd\n",
        "\n",
        "# Create a DataFrame\n",
        "data = {'Name': ['Alice', 'Bob', 'Charlie'],\n",
        "        'Age': [25, 30, 35],\n",
        "        'City': ['New York', 'Paris', 'London']}\n",
        "df = pd.DataFrame(data)\n",
        "print(\"\\nPandas DataFrame:\")\n",
        "print(df)\n",
        "print(\"\\nDataFrame info:\")\n",
        "df.info()\n",
        "\n",
        "# Matplotlib example\n",
        "import matplotlib.pyplot as plt\n",
        "\n",
        "# Create a simple line plot\n",
        "x = [1, 2, 3, 4, 5]\n",
        "y = [2, 4, 6, 8, 10]\n",
        "plt.plot(x, y)\n",
        "plt.xlabel('X-axis')\n",
        "plt.ylabel('Y-axis')\n",
        "plt.title('Simple Line Plot')\n",
        "plt.show()"
      ]
    }
  ]
}